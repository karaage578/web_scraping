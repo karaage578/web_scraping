{
 "cells": [
  {
   "cell_type": "code",
   "execution_count": 13,
   "metadata": {},
   "outputs": [
    {
     "name": "stdout",
     "output_type": "stream",
     "text": [
      "                         法人PF  \\\n",
      "0               GET /pricings   \n",
      "1               GET /pricings   \n",
      "2               GET /pricings   \n",
      "3               GET /pricings   \n",
      "4               GET /pricings   \n",
      "..                        ...   \n",
      "169   GET /organizations/bulk   \n",
      "170  GET /organizations/count   \n",
      "171  GET /organizations/count   \n",
      "172  GET /organizations/count   \n",
      "173  GET /organizations/count   \n",
      "\n",
      "                                                   API  \n",
      "0                       POST /api/corporations/confirm  \n",
      "1                                   POST /api/flexlong  \n",
      "2      PATCH /api/flexlong/{flexContractInformationId}  \n",
      "3        GET /api/flexlong/{flexContractInformationId}  \n",
      "4    GET /api/flexlong/{flexContractInformationId}/all  \n",
      "..                                                 ...  \n",
      "169              GET /api/charge//claimCheckList/excel  \n",
      "170           GET /api/charge/flexClaimCheckList/check  \n",
      "171           GET /api/charge/flexClaimCheckList/excel  \n",
      "172               GET /api/charge/claimCheckList/check  \n",
      "173              GET /api/charge//claimCheckList/excel  \n",
      "\n",
      "[174 rows x 2 columns]\n",
      "           管理画面                                                API\n",
      "0            共通                 GET /api/twoFactorAuth/changeCheck\n",
      "1    404 エラーページ                                             呼び出しなし\n",
      "2        共通メニュー                             POST /api/login/logout\n",
      "3        共通メニュー                           GET /api/users/loginUser\n",
      "4          会員選択                               GET /api/users/popup\n",
      "..          ...                                                ...\n",
      "227    使用されていない        GET/api/transfer/upload/memberLumping/check\n",
      "228    使用されていない                    GET/api/flapperEntry/printCheck\n",
      "229    使用されていない  GET/api/flexlong/{flexContractInformationId}/copy\n",
      "230    使用されていない                                       POST/api/log\n",
      "231    使用されていない              POST/api/reception/impersonationCheck\n",
      "\n",
      "[232 rows x 2 columns]\n"
     ]
    }
   ],
   "source": [
    "import pandas as pd\n",
    "\n",
    "df = pd.read_csv(\"../input/PF.csv\", encoding=\"shift-jis\")\n",
    "df.columns = ['法人PF','API']\n",
    "print(df)\n",
    "df2 = pd.read_csv(\"../input/kanri.csv\", encoding=\"shift-jis\")\n",
    "df2.columns = ['管理画面','API']\n",
    "print(df2)"
   ]
  },
  {
   "cell_type": "code",
   "execution_count": 14,
   "metadata": {},
   "outputs": [
    {
     "data": {
      "text/plain": [
       "(174, 2)"
      ]
     },
     "execution_count": 14,
     "metadata": {},
     "output_type": "execute_result"
    }
   ],
   "source": [
    "df.shape"
   ]
  },
  {
   "cell_type": "code",
   "execution_count": 15,
   "metadata": {},
   "outputs": [],
   "source": [
    "df3 = pd.merge(df, df2, on='API')"
   ]
  },
  {
   "cell_type": "code",
   "execution_count": 16,
   "metadata": {},
   "outputs": [
    {
     "name": "stdout",
     "output_type": "stream",
     "text": [
      "                         法人PF                                     API  \\\n",
      "0               GET /pricings          POST /api/corporations/confirm   \n",
      "1          GET /organizations          POST /api/corporations/confirm   \n",
      "2         POST /organizations          POST /api/corporations/confirm   \n",
      "3               GET /pricings                      POST /api/flexlong   \n",
      "4          GET /organizations                      POST /api/flexlong   \n",
      "..                        ...                                     ...   \n",
      "168        GET /organizations            POST /api/users/registration   \n",
      "169        GET /organizations            POST /api/users/registration   \n",
      "170        GET /organizations  PUT /api/billing/serviceUsageStopCheck   \n",
      "171   GET /organizations/bulk    GET /api/charge/claimCheckList/check   \n",
      "172  GET /organizations/count    GET /api/charge/claimCheckList/check   \n",
      "\n",
      "         管理画面  \n",
      "0    法人契約企業登録  \n",
      "1    法人契約企業登録  \n",
      "2    法人契約企業登録  \n",
      "3      個別契約確認  \n",
      "4      個別契約確認  \n",
      "..        ...  \n",
      "168    会員登録確認  \n",
      "169    会員更新確認  \n",
      "170      会員更新  \n",
      "171   請求書明細出力  \n",
      "172   請求書明細出力  \n",
      "\n",
      "[173 rows x 3 columns]\n"
     ]
    }
   ],
   "source": [
    "print(df3)"
   ]
  },
  {
   "cell_type": "code",
   "execution_count": 18,
   "metadata": {},
   "outputs": [],
   "source": [
    "df3.to_csv(\"../output/test.csv\", index=False)"
   ]
  },
  {
   "cell_type": "code",
   "execution_count": null,
   "metadata": {},
   "outputs": [],
   "source": []
  }
 ],
 "metadata": {
  "kernelspec": {
   "display_name": "Python 3",
   "language": "python",
   "name": "python3"
  },
  "language_info": {
   "codemirror_mode": {
    "name": "ipython",
    "version": 3
   },
   "file_extension": ".py",
   "mimetype": "text/x-python",
   "name": "python",
   "nbconvert_exporter": "python",
   "pygments_lexer": "ipython3",
   "version": "3.8.3"
  }
 },
 "nbformat": 4,
 "nbformat_minor": 4
}

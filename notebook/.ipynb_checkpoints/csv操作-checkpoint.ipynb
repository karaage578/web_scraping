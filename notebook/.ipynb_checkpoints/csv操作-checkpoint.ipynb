{
 "cells": [
  {
   "cell_type": "code",
   "execution_count": 8,
   "metadata": {},
   "outputs": [
    {
     "name": "stdout",
     "output_type": "stream",
     "text": [
      "                GET /pricings  \\\n",
      "0               GET /pricings   \n",
      "1               GET /pricings   \n",
      "2               GET /pricings   \n",
      "3               GET /pricings   \n",
      "4               GET /pricings   \n",
      "..                        ...   \n",
      "169   GET /organizations/bulk   \n",
      "170  GET /organizations/count   \n",
      "171  GET /organizations/count   \n",
      "172  GET /organizations/count   \n",
      "173  GET /organizations/count   \n",
      "\n",
      "                       PATCH /api/corporations/confirm  \n",
      "0                       POST /api/corporations/confirm  \n",
      "1                                   POST /api/flexlong  \n",
      "2      PATCH /api/flexlong/{flexContractInformationId}  \n",
      "3        GET /api/flexlong/{flexContractInformationId}  \n",
      "4    GET /api/flexlong/{flexContractInformationId}/all  \n",
      "..                                                 ...  \n",
      "169              GET /api/charge//claimCheckList/excel  \n",
      "170           GET /api/charge/flexClaimCheckList/check  \n",
      "171           GET /api/charge/flexClaimCheckList/excel  \n",
      "172               GET /api/charge/claimCheckList/check  \n",
      "173              GET /api/charge//claimCheckList/excel  \n",
      "\n",
      "[174 rows x 2 columns]\n",
      "                GET /pricings  \\\n",
      "0               GET /pricings   \n",
      "1               GET /pricings   \n",
      "2               GET /pricings   \n",
      "3               GET /pricings   \n",
      "4               GET /pricings   \n",
      "..                        ...   \n",
      "169   GET /organizations/bulk   \n",
      "170  GET /organizations/count   \n",
      "171  GET /organizations/count   \n",
      "172  GET /organizations/count   \n",
      "173  GET /organizations/count   \n",
      "\n",
      "                       PATCH /api/corporations/confirm  \n",
      "0                       POST /api/corporations/confirm  \n",
      "1                                   POST /api/flexlong  \n",
      "2      PATCH /api/flexlong/{flexContractInformationId}  \n",
      "3        GET /api/flexlong/{flexContractInformationId}  \n",
      "4    GET /api/flexlong/{flexContractInformationId}/all  \n",
      "..                                                 ...  \n",
      "169              GET /api/charge//claimCheckList/excel  \n",
      "170           GET /api/charge/flexClaimCheckList/check  \n",
      "171           GET /api/charge/flexClaimCheckList/excel  \n",
      "172               GET /api/charge/claimCheckList/check  \n",
      "173              GET /api/charge//claimCheckList/excel  \n",
      "\n",
      "[174 rows x 2 columns]\n"
     ]
    }
   ],
   "source": [
    "import pandas as pd\n",
    "\n",
    "df = pd.read_csv(\"../input/PF.csv\", encoding=\"shift-jis\")\n",
    "df.columns = ['法人PF','API']\n",
    "print(df)\n",
    "df2 = pd.read_csv(\"../input/kanri.csv\", encoding=\"shift-jis\")\n",
    "df2.columns = ['管理画面','API']\n",
    "print(df)"
   ]
  },
  {
   "cell_type": "code",
   "execution_count": null,
   "metadata": {},
   "outputs": [],
   "source": []
  },
  {
   "cell_type": "code",
   "execution_count": null,
   "metadata": {},
   "outputs": [],
   "source": []
  },
  {
   "cell_type": "code",
   "execution_count": null,
   "metadata": {},
   "outputs": [],
   "source": []
  }
 ],
 "metadata": {
  "kernelspec": {
   "display_name": "Python 3",
   "language": "python",
   "name": "python3"
  },
  "language_info": {
   "codemirror_mode": {
    "name": "ipython",
    "version": 3
   },
   "file_extension": ".py",
   "mimetype": "text/x-python",
   "name": "python",
   "nbconvert_exporter": "python",
   "pygments_lexer": "ipython3",
   "version": "3.8.3"
  }
 },
 "nbformat": 4,
 "nbformat_minor": 4
}
